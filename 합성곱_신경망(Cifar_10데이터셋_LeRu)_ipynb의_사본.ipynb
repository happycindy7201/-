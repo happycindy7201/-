{
  "nbformat": 4,
  "nbformat_minor": 0,
  "metadata": {
    "colab": {
      "provenance": [],
      "authorship_tag": "ABX9TyM3xWdAC7hzt5QuLLi1cvit",
      "include_colab_link": true
    },
    "kernelspec": {
      "name": "python3",
      "display_name": "Python 3"
    },
    "language_info": {
      "name": "python"
    }
  },
  "cells": [
    {
      "cell_type": "markdown",
      "metadata": {
        "id": "view-in-github",
        "colab_type": "text"
      },
      "source": [
        "<a href=\"https://colab.research.google.com/github/happycindy7201/-/blob/main/%ED%95%A9%EC%84%B1%EA%B3%B1_%EC%8B%A0%EA%B2%BD%EB%A7%9D(Cifar_10%EB%8D%B0%EC%9D%B4%ED%84%B0%EC%85%8B_LeRu)_ipynb%EC%9D%98_%EC%82%AC%EB%B3%B8.ipynb\" target=\"_parent\"><img src=\"https://colab.research.google.com/assets/colab-badge.svg\" alt=\"Open In Colab\"/></a>"
      ]
    },
    {
      "cell_type": "markdown",
      "source": [
        "모델 복잡도 증가: 첫 번째 Conv2D 레이어에서 필터 수를 10에서 32로 설정\n",
        "conv_model.add(Conv2D(32, (3, 3), activation='swish', padding='same', input_shape=(32, 32, 3)))\n",
        "\n",
        "Batch Normalization 추가: 각 Conv2D 레이어 뒤에 Batch Normalization을 추가하여 학습 안정성 향상 시도\n",
        "conv_model.add(BatchNormalization())\n",
        "\n",
        "Dropout 적용: 과적합을 방지하기 위해 Dropout을 추가\n",
        "conv_model.add(Dropout(0.2))  # 예: 첫 번째 Dropout 레이어\n",
        "\n",
        "데이터 증강도 해봐야 합니다.\n",
        "\n",
        "학습이 진행됨에 따라 학습률을 줄이기 위해 Learning Rate Scheduler 적용해 보면 좋겠습니다.\n",
        "\n",
        "검증 데이터셋에서 성능이 향상되지 않으면 학습을 중지해 최적의 모델을 얻도록 Early Stopping 적용을 하면 좋습니다."
      ],
      "metadata": {
        "id": "XcU9KF6Mk-Rr"
      }
    },
    {
      "cell_type": "markdown",
      "source": [
        "##CIFAR-10 데이터셋으로 합성곱 신경망을 개선하기 위한 코드"
      ],
      "metadata": {
        "id": "IdwnZh5ulFzb"
      }
    },
    {
      "cell_type": "code",
      "source": [
        "import tensorflow as tf\n",
        "from tensorflow.keras.layers import Conv2D, MaxPooling2D, Flatten, Dense, Dropout, BatchNormalization\n",
        "from tensorflow.keras.preprocessing.image import ImageDataGenerator\n",
        "from tensorflow.keras.callbacks import LearningRateScheduler, EarlyStopping"
      ],
      "metadata": {
        "id": "DAW-elXClNZD"
      },
      "execution_count": 1,
      "outputs": []
    },
    {
      "cell_type": "code",
      "source": [],
      "metadata": {
        "id": "QgPc95iHlIl8"
      },
      "execution_count": null,
      "outputs": []
    },
    {
      "cell_type": "markdown",
      "source": [
        "##데이터 준비"
      ],
      "metadata": {
        "id": "yUETq7cxlROO"
      }
    },
    {
      "cell_type": "code",
      "source": [
        "(x_train_all, y_train_all), (x_test, y_test) = tf.keras.datasets.cifar10.load_data()\n",
        "from sklearn.model_selection import train_test_split\n",
        "\n",
        "x_train, x_val, y_train, y_val = train_test_split(x_train_all, y_train_all, stratify=y_train_all, test_size=0.2, random_state=42)"
      ],
      "metadata": {
        "colab": {
          "base_uri": "https://localhost:8080/"
        },
        "id": "nimSIcpklSu1",
        "outputId": "a6652ac9-e5ce-4e1d-fceb-bd8ca0b2a2d7"
      },
      "execution_count": 2,
      "outputs": [
        {
          "output_type": "stream",
          "name": "stdout",
          "text": [
            "Downloading data from https://www.cs.toronto.edu/~kriz/cifar-10-python.tar.gz\n",
            "\u001b[1m170498071/170498071\u001b[0m \u001b[32m━━━━━━━━━━━━━━━━━━━━\u001b[0m\u001b[37m\u001b[0m \u001b[1m11s\u001b[0m 0us/step\n"
          ]
        }
      ]
    },
    {
      "cell_type": "code",
      "source": [],
      "metadata": {
        "id": "AKpbVDdylYpP"
      },
      "execution_count": null,
      "outputs": []
    },
    {
      "cell_type": "markdown",
      "source": [
        "##데이터 정규화"
      ],
      "metadata": {
        "id": "uPAxvZnTldvW"
      }
    },
    {
      "cell_type": "code",
      "source": [
        "x_train = x_train.astype('float32') / 255\n",
        "x_val = x_val.astype('float32') / 255"
      ],
      "metadata": {
        "id": "tplPNHreljtv"
      },
      "execution_count": 3,
      "outputs": []
    },
    {
      "cell_type": "code",
      "source": [],
      "metadata": {
        "id": "JWrhJ4P_lfHR"
      },
      "execution_count": null,
      "outputs": []
    },
    {
      "cell_type": "markdown",
      "source": [
        "##데이터 증강"
      ],
      "metadata": {
        "id": "Rxm77scNlo4_"
      }
    },
    {
      "cell_type": "code",
      "source": [
        "datagen = ImageDataGenerator(\n",
        "    rotation_range=15,\n",
        "    width_shift_range=0.1,\n",
        "    height_shift_range=0.1,\n",
        "    horizontal_flip=True\n",
        ")\n",
        "datagen.fit(x_train)"
      ],
      "metadata": {
        "id": "2MVpeUfvlrT4"
      },
      "execution_count": 4,
      "outputs": []
    },
    {
      "cell_type": "markdown",
      "source": [
        "##One-hot 인코딩"
      ],
      "metadata": {
        "id": "n5c5FOI4l7Xb"
      }
    },
    {
      "cell_type": "code",
      "source": [
        "y_train_encoded = tf.keras.utils.to_categorical(y_train)\n",
        "y_val_encoded = tf.keras.utils.to_categorical(y_val)"
      ],
      "metadata": {
        "id": "ZrG1c8Orl8mq"
      },
      "execution_count": 5,
      "outputs": []
    },
    {
      "cell_type": "markdown",
      "source": [
        "##합성곱 신경망 모델 개선"
      ],
      "metadata": {
        "id": "5VJPtn03mDML"
      }
    },
    {
      "cell_type": "code",
      "source": [
        "conv_model = tf.keras.Sequential()\n",
        "conv_model.add(Conv2D(32, (3, 3), activation='relu', padding='same', input_shape=(32, 32, 3)))\n",
        "conv_model.add(BatchNormalization())\n",
        "conv_model.add(MaxPooling2D((2, 2)))\n",
        "conv_model.add(Dropout(0.2))\n",
        "\n",
        "conv_model.add(Conv2D(64, (3, 3), activation='relu', padding='same'))\n",
        "conv_model.add(BatchNormalization())\n",
        "conv_model.add(MaxPooling2D((2, 2)))\n",
        "conv_model.add(Dropout(0.3))\n",
        "\n",
        "conv_model.add(Conv2D(128, (3, 3), activation='relu', padding='same'))\n",
        "conv_model.add(BatchNormalization())\n",
        "conv_model.add(MaxPooling2D((2, 2)))\n",
        "conv_model.add(Dropout(0.4))\n",
        "\n",
        "conv_model.add(Flatten())\n",
        "conv_model.add(Dense(256, activation='relu'))\n",
        "conv_model.add(Dropout(0.5))\n",
        "conv_model.add(Dense(10, activation='softmax'))"
      ],
      "metadata": {
        "id": "PyV0C5dJmFLr"
      },
      "execution_count": 8,
      "outputs": []
    },
    {
      "cell_type": "markdown",
      "source": [
        "##옵티마이저 및 콜백 설정"
      ],
      "metadata": {
        "id": "o_dt3aRQmOi2"
      }
    },
    {
      "cell_type": "code",
      "source": [
        "conv_model.compile(optimizer='nadam', loss='categorical_crossentropy', metrics=['accuracy'])"
      ],
      "metadata": {
        "id": "QqnprJdhmQTq"
      },
      "execution_count": 9,
      "outputs": []
    },
    {
      "cell_type": "markdown",
      "source": [
        "##Learning Rate Scheduler"
      ],
      "metadata": {
        "id": "dbkY_qzLmeOm"
      }
    },
    {
      "cell_type": "code",
      "source": [
        "def scheduler(epoch, lr):\n",
        "    return lr * 0.9 if epoch >= 10 else lr\n",
        "\n",
        "lr_scheduler = LearningRateScheduler(scheduler)"
      ],
      "metadata": {
        "id": "34jEOCU2mfpF"
      },
      "execution_count": 10,
      "outputs": []
    },
    {
      "cell_type": "markdown",
      "source": [
        "##Early Stopping"
      ],
      "metadata": {
        "id": "6sB9k4CtmmkL"
      }
    },
    {
      "cell_type": "code",
      "source": [
        "early_stopping = EarlyStopping(monitor='val_loss', patience=5, restore_best_weights=True)"
      ],
      "metadata": {
        "id": "AgSORtuHmn1w"
      },
      "execution_count": 11,
      "outputs": []
    },
    {
      "cell_type": "markdown",
      "source": [
        "##모델 학습"
      ],
      "metadata": {
        "id": "rsCoktonmvMa"
      }
    },
    {
      "cell_type": "code",
      "source": [
        "history = conv_model.fit(datagen.flow(x_train, y_train_encoded, batch_size=64),\n",
        "                         epochs=50,\n",
        "                         validation_data=(x_val, y_val_encoded),\n",
        "                         callbacks=[lr_scheduler, early_stopping],\n",
        "                         verbose=1)"
      ],
      "metadata": {
        "colab": {
          "base_uri": "https://localhost:8080/"
        },
        "id": "b7nHlD9rm0yS",
        "outputId": "10477347-788d-4019-d97c-bcb8b4c518ca"
      },
      "execution_count": 12,
      "outputs": [
        {
          "metadata": {
            "tags": null
          },
          "name": "stdout",
          "output_type": "stream",
          "text": [
            "Epoch 1/50\n"
          ]
        },
        {
          "metadata": {
            "tags": null
          },
          "name": "stderr",
          "output_type": "stream",
          "text": [
            "/usr/local/lib/python3.10/dist-packages/keras/src/trainers/data_adapters/py_dataset_adapter.py:121: UserWarning: Your `PyDataset` class should call `super().__init__(**kwargs)` in its constructor. `**kwargs` can include `workers`, `use_multiprocessing`, `max_queue_size`. Do not pass these arguments to `fit()`, as they will be ignored.\n",
            "  self._warn_if_super_not_called()\n"
          ]
        },
        {
          "output_type": "stream",
          "name": "stdout",
          "text": [
            "\u001b[1m625/625\u001b[0m \u001b[32m━━━━━━━━━━━━━━━━━━━━\u001b[0m\u001b[37m\u001b[0m \u001b[1m153s\u001b[0m 238ms/step - accuracy: 0.2592 - loss: 2.2116 - val_accuracy: 0.4344 - val_loss: 1.7062 - learning_rate: 0.0010\n",
            "Epoch 2/50\n",
            "\u001b[1m625/625\u001b[0m \u001b[32m━━━━━━━━━━━━━━━━━━━━\u001b[0m\u001b[37m\u001b[0m \u001b[1m145s\u001b[0m 232ms/step - accuracy: 0.4098 - loss: 1.6215 - val_accuracy: 0.5063 - val_loss: 1.3772 - learning_rate: 0.0010\n",
            "Epoch 3/50\n",
            "\u001b[1m625/625\u001b[0m \u001b[32m━━━━━━━━━━━━━━━━━━━━\u001b[0m\u001b[37m\u001b[0m \u001b[1m202s\u001b[0m 232ms/step - accuracy: 0.4678 - loss: 1.4728 - val_accuracy: 0.5292 - val_loss: 1.3050 - learning_rate: 0.0010\n",
            "Epoch 4/50\n",
            "\u001b[1m625/625\u001b[0m \u001b[32m━━━━━━━━━━━━━━━━━━━━\u001b[0m\u001b[37m\u001b[0m \u001b[1m145s\u001b[0m 231ms/step - accuracy: 0.5029 - loss: 1.3875 - val_accuracy: 0.5838 - val_loss: 1.1739 - learning_rate: 0.0010\n",
            "Epoch 5/50\n",
            "\u001b[1m625/625\u001b[0m \u001b[32m━━━━━━━━━━━━━━━━━━━━\u001b[0m\u001b[37m\u001b[0m \u001b[1m206s\u001b[0m 237ms/step - accuracy: 0.5351 - loss: 1.3045 - val_accuracy: 0.5884 - val_loss: 1.2703 - learning_rate: 0.0010\n",
            "Epoch 6/50\n",
            "\u001b[1m625/625\u001b[0m \u001b[32m━━━━━━━━━━━━━━━━━━━━\u001b[0m\u001b[37m\u001b[0m \u001b[1m203s\u001b[0m 238ms/step - accuracy: 0.5551 - loss: 1.2574 - val_accuracy: 0.6177 - val_loss: 1.1029 - learning_rate: 0.0010\n",
            "Epoch 7/50\n",
            "\u001b[1m625/625\u001b[0m \u001b[32m━━━━━━━━━━━━━━━━━━━━\u001b[0m\u001b[37m\u001b[0m \u001b[1m144s\u001b[0m 230ms/step - accuracy: 0.5770 - loss: 1.2070 - val_accuracy: 0.6398 - val_loss: 1.0454 - learning_rate: 0.0010\n",
            "Epoch 8/50\n",
            "\u001b[1m625/625\u001b[0m \u001b[32m━━━━━━━━━━━━━━━━━━━━\u001b[0m\u001b[37m\u001b[0m \u001b[1m147s\u001b[0m 235ms/step - accuracy: 0.5865 - loss: 1.1808 - val_accuracy: 0.6574 - val_loss: 0.9834 - learning_rate: 0.0010\n",
            "Epoch 9/50\n",
            "\u001b[1m625/625\u001b[0m \u001b[32m━━━━━━━━━━━━━━━━━━━━\u001b[0m\u001b[37m\u001b[0m \u001b[1m148s\u001b[0m 236ms/step - accuracy: 0.5913 - loss: 1.1485 - val_accuracy: 0.6081 - val_loss: 1.1743 - learning_rate: 0.0010\n",
            "Epoch 10/50\n",
            "\u001b[1m625/625\u001b[0m \u001b[32m━━━━━━━━━━━━━━━━━━━━\u001b[0m\u001b[37m\u001b[0m \u001b[1m142s\u001b[0m 227ms/step - accuracy: 0.6112 - loss: 1.1090 - val_accuracy: 0.7082 - val_loss: 0.8108 - learning_rate: 0.0010\n",
            "Epoch 11/50\n",
            "\u001b[1m625/625\u001b[0m \u001b[32m━━━━━━━━━━━━━━━━━━━━\u001b[0m\u001b[37m\u001b[0m \u001b[1m148s\u001b[0m 237ms/step - accuracy: 0.6210 - loss: 1.0775 - val_accuracy: 0.6928 - val_loss: 0.8808 - learning_rate: 9.0000e-04\n",
            "Epoch 12/50\n",
            "\u001b[1m625/625\u001b[0m \u001b[32m━━━━━━━━━━━━━━━━━━━━\u001b[0m\u001b[37m\u001b[0m \u001b[1m201s\u001b[0m 236ms/step - accuracy: 0.6315 - loss: 1.0486 - val_accuracy: 0.6585 - val_loss: 1.0034 - learning_rate: 8.1000e-04\n",
            "Epoch 13/50\n",
            "\u001b[1m625/625\u001b[0m \u001b[32m━━━━━━━━━━━━━━━━━━━━\u001b[0m\u001b[37m\u001b[0m \u001b[1m148s\u001b[0m 236ms/step - accuracy: 0.6414 - loss: 1.0244 - val_accuracy: 0.7014 - val_loss: 0.8399 - learning_rate: 7.2900e-04\n",
            "Epoch 14/50\n",
            "\u001b[1m625/625\u001b[0m \u001b[32m━━━━━━━━━━━━━━━━━━━━\u001b[0m\u001b[37m\u001b[0m \u001b[1m202s\u001b[0m 237ms/step - accuracy: 0.6473 - loss: 1.0043 - val_accuracy: 0.6777 - val_loss: 0.9375 - learning_rate: 6.5610e-04\n",
            "Epoch 15/50\n",
            "\u001b[1m625/625\u001b[0m \u001b[32m━━━━━━━━━━━━━━━━━━━━\u001b[0m\u001b[37m\u001b[0m \u001b[1m201s\u001b[0m 235ms/step - accuracy: 0.6585 - loss: 0.9740 - val_accuracy: 0.7251 - val_loss: 0.7839 - learning_rate: 5.9049e-04\n",
            "Epoch 16/50\n",
            "\u001b[1m625/625\u001b[0m \u001b[32m━━━━━━━━━━━━━━━━━━━━\u001b[0m\u001b[37m\u001b[0m \u001b[1m144s\u001b[0m 230ms/step - accuracy: 0.6665 - loss: 0.9612 - val_accuracy: 0.7413 - val_loss: 0.7328 - learning_rate: 5.3144e-04\n",
            "Epoch 17/50\n",
            "\u001b[1m625/625\u001b[0m \u001b[32m━━━━━━━━━━━━━━━━━━━━\u001b[0m\u001b[37m\u001b[0m \u001b[1m148s\u001b[0m 236ms/step - accuracy: 0.6699 - loss: 0.9483 - val_accuracy: 0.6954 - val_loss: 0.9155 - learning_rate: 4.7830e-04\n",
            "Epoch 18/50\n",
            "\u001b[1m625/625\u001b[0m \u001b[32m━━━━━━━━━━━━━━━━━━━━\u001b[0m\u001b[37m\u001b[0m \u001b[1m144s\u001b[0m 229ms/step - accuracy: 0.6796 - loss: 0.9266 - val_accuracy: 0.7182 - val_loss: 0.7991 - learning_rate: 4.3047e-04\n",
            "Epoch 19/50\n",
            "\u001b[1m625/625\u001b[0m \u001b[32m━━━━━━━━━━━━━━━━━━━━\u001b[0m\u001b[37m\u001b[0m \u001b[1m147s\u001b[0m 234ms/step - accuracy: 0.6847 - loss: 0.9037 - val_accuracy: 0.6404 - val_loss: 1.0678 - learning_rate: 3.8742e-04\n",
            "Epoch 20/50\n",
            "\u001b[1m625/625\u001b[0m \u001b[32m━━━━━━━━━━━━━━━━━━━━\u001b[0m\u001b[37m\u001b[0m \u001b[1m202s\u001b[0m 234ms/step - accuracy: 0.6866 - loss: 0.9013 - val_accuracy: 0.7528 - val_loss: 0.7071 - learning_rate: 3.4868e-04\n",
            "Epoch 21/50\n",
            "\u001b[1m625/625\u001b[0m \u001b[32m━━━━━━━━━━━━━━━━━━━━\u001b[0m\u001b[37m\u001b[0m \u001b[1m143s\u001b[0m 228ms/step - accuracy: 0.6895 - loss: 0.8842 - val_accuracy: 0.6728 - val_loss: 0.9955 - learning_rate: 3.1381e-04\n",
            "Epoch 22/50\n",
            "\u001b[1m625/625\u001b[0m \u001b[32m━━━━━━━━━━━━━━━━━━━━\u001b[0m\u001b[37m\u001b[0m \u001b[1m147s\u001b[0m 234ms/step - accuracy: 0.6921 - loss: 0.8811 - val_accuracy: 0.7359 - val_loss: 0.7592 - learning_rate: 2.8243e-04\n",
            "Epoch 23/50\n",
            "\u001b[1m625/625\u001b[0m \u001b[32m━━━━━━━━━━━━━━━━━━━━\u001b[0m\u001b[37m\u001b[0m \u001b[1m202s\u001b[0m 235ms/step - accuracy: 0.7010 - loss: 0.8688 - val_accuracy: 0.7137 - val_loss: 0.8397 - learning_rate: 2.5419e-04\n",
            "Epoch 24/50\n",
            "\u001b[1m625/625\u001b[0m \u001b[32m━━━━━━━━━━━━━━━━━━━━\u001b[0m\u001b[37m\u001b[0m \u001b[1m198s\u001b[0m 229ms/step - accuracy: 0.7040 - loss: 0.8491 - val_accuracy: 0.7150 - val_loss: 0.8322 - learning_rate: 2.2877e-04\n",
            "Epoch 25/50\n",
            "\u001b[1m625/625\u001b[0m \u001b[32m━━━━━━━━━━━━━━━━━━━━\u001b[0m\u001b[37m\u001b[0m \u001b[1m147s\u001b[0m 235ms/step - accuracy: 0.7060 - loss: 0.8477 - val_accuracy: 0.7554 - val_loss: 0.7018 - learning_rate: 2.0589e-04\n",
            "Epoch 26/50\n",
            "\u001b[1m625/625\u001b[0m \u001b[32m━━━━━━━━━━━━━━━━━━━━\u001b[0m\u001b[37m\u001b[0m \u001b[1m200s\u001b[0m 233ms/step - accuracy: 0.7099 - loss: 0.8340 - val_accuracy: 0.7471 - val_loss: 0.7296 - learning_rate: 1.8530e-04\n",
            "Epoch 27/50\n",
            "\u001b[1m625/625\u001b[0m \u001b[32m━━━━━━━━━━━━━━━━━━━━\u001b[0m\u001b[37m\u001b[0m \u001b[1m144s\u001b[0m 230ms/step - accuracy: 0.7070 - loss: 0.8417 - val_accuracy: 0.7451 - val_loss: 0.7429 - learning_rate: 1.6677e-04\n",
            "Epoch 28/50\n",
            "\u001b[1m625/625\u001b[0m \u001b[32m━━━━━━━━━━━━━━━━━━━━\u001b[0m\u001b[37m\u001b[0m \u001b[1m201s\u001b[0m 228ms/step - accuracy: 0.7116 - loss: 0.8359 - val_accuracy: 0.7583 - val_loss: 0.6890 - learning_rate: 1.5009e-04\n",
            "Epoch 29/50\n",
            "\u001b[1m625/625\u001b[0m \u001b[32m━━━━━━━━━━━━━━━━━━━━\u001b[0m\u001b[37m\u001b[0m \u001b[1m147s\u001b[0m 234ms/step - accuracy: 0.7142 - loss: 0.8207 - val_accuracy: 0.7584 - val_loss: 0.6878 - learning_rate: 1.3509e-04\n",
            "Epoch 30/50\n",
            "\u001b[1m625/625\u001b[0m \u001b[32m━━━━━━━━━━━━━━━━━━━━\u001b[0m\u001b[37m\u001b[0m \u001b[1m147s\u001b[0m 234ms/step - accuracy: 0.7108 - loss: 0.8271 - val_accuracy: 0.7665 - val_loss: 0.6697 - learning_rate: 1.2158e-04\n",
            "Epoch 31/50\n",
            "\u001b[1m625/625\u001b[0m \u001b[32m━━━━━━━━━━━━━━━━━━━━\u001b[0m\u001b[37m\u001b[0m \u001b[1m197s\u001b[0m 226ms/step - accuracy: 0.7148 - loss: 0.8167 - val_accuracy: 0.7626 - val_loss: 0.6762 - learning_rate: 1.0942e-04\n",
            "Epoch 32/50\n",
            "\u001b[1m625/625\u001b[0m \u001b[32m━━━━━━━━━━━━━━━━━━━━\u001b[0m\u001b[37m\u001b[0m \u001b[1m149s\u001b[0m 238ms/step - accuracy: 0.7158 - loss: 0.8071 - val_accuracy: 0.7476 - val_loss: 0.7320 - learning_rate: 9.8477e-05\n",
            "Epoch 33/50\n",
            "\u001b[1m625/625\u001b[0m \u001b[32m━━━━━━━━━━━━━━━━━━━━\u001b[0m\u001b[37m\u001b[0m \u001b[1m199s\u001b[0m 233ms/step - accuracy: 0.7186 - loss: 0.8049 - val_accuracy: 0.7444 - val_loss: 0.7171 - learning_rate: 8.8629e-05\n",
            "Epoch 34/50\n",
            "\u001b[1m625/625\u001b[0m \u001b[32m━━━━━━━━━━━━━━━━━━━━\u001b[0m\u001b[37m\u001b[0m \u001b[1m143s\u001b[0m 229ms/step - accuracy: 0.7192 - loss: 0.8077 - val_accuracy: 0.7578 - val_loss: 0.6928 - learning_rate: 7.9766e-05\n",
            "Epoch 35/50\n",
            "\u001b[1m625/625\u001b[0m \u001b[32m━━━━━━━━━━━━━━━━━━━━\u001b[0m\u001b[37m\u001b[0m \u001b[1m203s\u001b[0m 229ms/step - accuracy: 0.7188 - loss: 0.8010 - val_accuracy: 0.7617 - val_loss: 0.6821 - learning_rate: 7.1790e-05\n"
          ]
        }
      ]
    },
    {
      "cell_type": "markdown",
      "source": [
        "##모델 성능 평가"
      ],
      "metadata": {
        "id": "yZ1Zq_zIm6XS"
      }
    },
    {
      "cell_type": "code",
      "source": [
        "loss, accuracy = conv_model.evaluate(x_val, y_val_encoded, verbose=0)\n",
        "print(f\"Validation Accuracy: {accuracy:.4f}\")"
      ],
      "metadata": {
        "colab": {
          "base_uri": "https://localhost:8080/"
        },
        "id": "PqGqhei4mwws",
        "outputId": "14300e75-cd77-45d3-d92b-9b1fb3169f0f"
      },
      "execution_count": 13,
      "outputs": [
        {
          "output_type": "stream",
          "name": "stdout",
          "text": [
            "Validation Accuracy: 0.7665\n"
          ]
        }
      ]
    },
    {
      "cell_type": "markdown",
      "source": [
        "##그래프 그리기"
      ],
      "metadata": {
        "id": "Fx6A0cn_nDP6"
      }
    },
    {
      "cell_type": "code",
      "source": [
        "import matplotlib.pyplot as plt\n",
        "\n",
        "plt.plot(history.history['loss'])\n",
        "plt.plot(history.history['val_loss'])\n",
        "plt.ylabel('loss')\n",
        "plt.xlabel('epoch')\n",
        "plt.legend(['train_loss', 'val_loss'])\n",
        "plt.show()\n",
        "\n",
        "plt.plot(history.history['accuracy'])\n",
        "plt.plot(history.history['val_accuracy'])\n",
        "plt.ylabel('accuracy')\n",
        "plt.xlabel('epoch')\n",
        "plt.legend(['train_accuracy', 'val_accuracy'])\n",
        "plt.show()"
      ],
      "metadata": {
        "colab": {
          "base_uri": "https://localhost:8080/",
          "height": 881
        },
        "id": "nBu-mN_gnFcE",
        "outputId": "616ab082-0c8b-4362-aa62-83e333d5c20c"
      },
      "execution_count": null,
      "outputs": [
        {
          "output_type": "display_data",
          "data": {
            "text/plain": [
              "<Figure size 640x480 with 1 Axes>"
            ],
            "image/png": "[encoded data removed]"
          },
          "metadata": {}
        },
        {
          "output_type": "display_data",
          "data": {
            "text/plain": [
              "<Figure size 640x480 with 1 Axes>"
            ],
            "image/png": "[encoded data removed]"
          },
          "metadata": {}
        }
      ]
    }
  ]
}